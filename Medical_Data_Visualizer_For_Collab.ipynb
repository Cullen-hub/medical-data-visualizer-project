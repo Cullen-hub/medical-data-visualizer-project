{
  "nbformat": 4,
  "nbformat_minor": 0,
  "metadata": {
    "colab": {
      "provenance": [],
      "authorship_tag": "ABX9TyNZLM2R/nOsNlE1vY6nO1KS",
      "include_colab_link": true
    },
    "kernelspec": {
      "name": "python3",
      "display_name": "Python 3"
    },
    "language_info": {
      "name": "python"
    }
  },
  "cells": [
    {
      "cell_type": "markdown",
      "metadata": {
        "id": "view-in-github",
        "colab_type": "text"
      },
      "source": [
        "<a href=\"https://colab.research.google.com/github/Cullen-hub/medical-data-visualizer-project/blob/main/Medical_Data_Visualizer_For_Collab.ipynb\" target=\"_parent\"><img src=\"https://colab.research.google.com/assets/colab-badge.svg\" alt=\"Open In Colab\"/></a>"
      ]
    },
    {
      "cell_type": "code",
      "execution_count": 3,
      "metadata": {
        "colab": {
          "base_uri": "https://localhost:8080/"
        },
        "id": "gk6H75d2EoXo",
        "outputId": "345c50f7-7a75-4e51-b30a-c4a5465a790d"
      },
      "outputs": [
        {
          "output_type": "stream",
          "name": "stdout",
          "text": [
            "Cloning into 'medical-data-visualizer-project'...\n",
            "remote: Enumerating objects: 73, done.\u001b[K\n",
            "remote: Counting objects: 100% (38/38), done.\u001b[K\n",
            "remote: Compressing objects: 100% (28/28), done.\u001b[K\n",
            "remote: Total 73 (delta 26), reused 10 (delta 10), pack-reused 35 (from 2)\u001b[K\n",
            "Receiving objects: 100% (73/73), 825.73 KiB | 5.29 MiB/s, done.\n",
            "Resolving deltas: 100% (32/32), done.\n",
            "/content/medical-data-visualizer-project\n"
          ]
        }
      ],
      "source": [
        "!git clone https://github.com/Cullen-hub/medical-data-visualizer-project.git\n",
        "%cd medical-data-visualizer-project"
      ]
    },
    {
      "cell_type": "code",
      "source": [
        "%%writefile medical_data_visualizer.py\n",
        "import pandas as pd\n",
        "import seaborn as sns\n",
        "import matplotlib.pyplot as plt\n",
        "import numpy as np\n",
        "\n",
        "# 1\n",
        "df = pd.read_csv('medical_examination.csv')\n",
        "\n",
        "# 2\n",
        "df['overweight'] = (df['weight']/(df['height']/100)**2).apply(lambda x: 1 if x > 25 else 0)\n",
        "\n",
        "# 3\n",
        "df['cholesterol'] =df['cholesterol'].apply(lambda x: 1 if x > 1 else 0)\n",
        "df['gluc'] =df['gluc'].apply(lambda x: 1 if x > 1 else 0)\n",
        "# 4\n",
        "def draw_cat_plot():\n",
        "    #fig,axis = plt.subplots()\n",
        "    # 5\n",
        "    df_cat = pd.melt(df,id_vars = ['cardio'],value_vars = ['cholesterol', 'gluc', 'smoke', 'alco', 'active', 'overweight'])\n",
        "\n",
        "\n",
        "    # 6\n",
        "    #df_cat = df_cat.groupby(['cardio', 'variable', 'value']).size().reset_index()\n",
        "    #df_cat = df_cat.rename(columns={0: 'total'})\n",
        "    df_cat = df_cat.groupby(['cardio', 'variable', 'value']).size().reset_index(name='total')\n",
        "    # 7\n",
        "    sns.catplot(x = 'variable', y = 'total', hue = 'value', col = 'cardio', data = df_cat, kind = 'bar')\n",
        "\n",
        "\n",
        "    # 8\n",
        "    fig = sns.catplot(x = 'variable', y = 'total', hue = 'value', col = 'cardio', data = df_cat, kind = 'bar').fig\n",
        "\n",
        "    # 9\n",
        "    fig.savefig('catplot.png')\n",
        "    return fig\n",
        "\n",
        "\n",
        "# 10\n",
        "def draw_heat_map():\n",
        "    # 11\n",
        "    #df_heat = df[(df['ap_lo'] <= df['ap_hi']) & (df['height'] >= df['height'].quantile(0.025)) & (df['height'] <= df['height'].quantile(0.975)) & (df['weight'] >= df['weight'].quantile(0.025)) & (df['weight'] <= df['weight'].quantile(0.975))]\n",
        "    df_heat = df[\n",
        "    (df['ap_lo'] <= df['ap_hi']) &\n",
        "    (df['height'] >= df['height'].quantile(0.025)) &\n",
        "    (df['height'] <= df['height'].quantile(0.975)) &\n",
        "    (df['weight'] >= df['weight'].quantile(0.025)) &\n",
        "    (df['weight'] <= df['weight'].quantile(0.975))\n",
        "]\n",
        "    # 12\n",
        "    corr = df_heat.corr()\n",
        "\n",
        "    # 13\n",
        "    mask = np.triu(np.ones_like(corr, dtype=bool))\n",
        "\n",
        "\n",
        "\n",
        "    # 14\n",
        "    fig, ax = plt.subplots(figsize=(12, 10))\n",
        "\n",
        "\n",
        "    # 15\n",
        "    sns.heatmap(corr, mask=mask, annot=True, fmt='.1f', center=0, vmax=0.3, vmin=-0.1, square=True, cbar_kws={\"shrink\": .5})\n",
        "    plt.show()\n",
        "\n",
        "\n",
        "    # 16\n",
        "    fig.savefig('heatmap.png')\n",
        "    return fig\n"
      ],
      "metadata": {
        "colab": {
          "base_uri": "https://localhost:8080/"
        },
        "id": "otV5FOdWFSu2",
        "outputId": "070c7874-45a8-4daf-a1a7-44009808d06a"
      },
      "execution_count": 4,
      "outputs": [
        {
          "output_type": "stream",
          "name": "stdout",
          "text": [
            "Overwriting medical_data_visualizer.py\n"
          ]
        }
      ]
    },
    {
      "cell_type": "code",
      "source": [
        "!python main.py"
      ],
      "metadata": {
        "colab": {
          "base_uri": "https://localhost:8080/"
        },
        "id": "OaABA9XnVbWv",
        "outputId": "e53bed47-6a66-456d-ef92-aaafa05b31f7"
      },
      "execution_count": 5,
      "outputs": [
        {
          "output_type": "stream",
          "name": "stdout",
          "text": [
            "Figure(1058.88x500)\n",
            "Figure(1058.88x500)\n",
            "Figure(1200x1000)\n",
            "..Figure(1058.88x500)\n",
            "Figure(1058.88x500)\n",
            "Figure(1058.88x500)\n",
            "Figure(1058.88x500)\n",
            "Figure(1200x1000)\n",
            ".Figure(1200x1000)\n",
            "['0.0', '0.0', '-0.0', '0.0', '-0.1', '0.5', '0.0', '0.1', '0.1', '0.3', '0.0', '0.0', '0.0', '0.0', '0.0', '0.0', '0.2', '0.1', '0.0', '0.2', '0.1', '0.0', '0.1', '-0.0', '-0.1', '0.1', '0.0', '0.2', '0.0', '0.1', '-0.0', '-0.0', '0.1', '0.0', '0.1', '0.4', '-0.0', '-0.0', '0.3', '0.2', '0.1', '-0.0', '0.0', '0.0', '-0.0', '-0.0', '-0.0', '0.2', '0.1', '0.1', '0.0', '0.0', '0.0', '0.0', '0.3', '0.0', '-0.0', '0.0', '-0.0', '-0.0', '-0.0', '0.0', '0.0', '-0.0', '0.0', '0.0', '0.0', '0.2', '0.0', '-0.0', '0.2', '0.1', '0.3', '0.2', '0.1', '-0.0', '-0.0', '-0.0', '-0.0', '0.1', '-0.1', '-0.1', '0.7', '0.0', '0.2', '0.1', '0.1', '-0.0', '0.0', '-0.0', '0.1']\n",
            ".\n",
            "----------------------------------------------------------------------\n",
            "Ran 4 tests in 1.955s\n",
            "\n",
            "OK\n"
          ]
        }
      ]
    }
  ]
}